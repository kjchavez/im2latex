{
 "cells": [
  {
   "cell_type": "markdown",
   "metadata": {},
   "source": [
    "# Create the Vocabulary\n",
    "\n",
    "While other solutions use \"minimal meaningful Latex symbols\" (e.g. https://arxiv.org/pdf/1609.04938v1.pdf), we will first try to do a character-based model."
   ]
  },
  {
   "cell_type": "code",
   "execution_count": 50,
   "metadata": {
    "collapsed": false
   },
   "outputs": [],
   "source": [
    "import collections\n",
    "\n",
    "def get_formulas():\n",
    "    formulas_file = \"data/im2latex_formulas.lst\"\n",
    "    with open(formulas_file) as fp:\n",
    "        formulas = [l.strip() for l in fp]\n",
    "        \n",
    "    return formulas\n",
    "\n",
    "def get_frequent_symbols(symbols, min_count=10):\n",
    "    truncated_symbols = []\n",
    "    for symbol, count in symbols.most_common():\n",
    "        if ord(symbol) >= 128:\n",
    "            print \"Skipping non-ascii character:\", symbol\n",
    "            continue\n",
    "\n",
    "        if count > min_count:\n",
    "            truncated_symbols.append(symbol)\n",
    "        else:\n",
    "            break\n",
    "    return truncated_symbols"
   ]
  },
  {
   "cell_type": "code",
   "execution_count": 51,
   "metadata": {
    "collapsed": false
   },
   "outputs": [
    {
     "name": "stdout",
     "output_type": "stream",
     "text": [
      "Skipping non-ascii character: �\n",
      "Skipping non-ascii character: �\n"
     ]
    }
   ],
   "source": [
    "# Let's read all of the formulas and extract all of the symbols.\n",
    "f = get_formulas()\n",
    "symbol_counts = collections.Counter([char for formula in f for char in formula])\n",
    "common_symbols = get_frequent_symbols(symbol_counts, min_count=10)\n",
    "\n",
    "# These are the symbols I can think of that should definitely be included.\n",
    "manual_symbols = r\"abcdefghijklmnopqrstuvwxyz\" + \\\n",
    "                 r\"ABCDEFGHIJKLMNOPQRSTUVWXYZ\" + \\\n",
    "                 r\"0123456789\" + \\\n",
    "                 r\"{}\\_^()&~;. *%!@#$?<>|'~[] \"\n",
    "            \n",
    "manual = set(c for c in manual_symbols)\n",
    "from_data = set(c for c in common_symbols)\n",
    "\n",
    "# Let's just make sure they're all included.\n",
    "assert len(manual.difference(from_data)) == 0\n",
    "\n",
    "# And save the index to character mapping to file.\n",
    "with open('character_mapping.txt', 'w') as fp:\n",
    "    fp.write(\"PAD\\nGO\\n\")\n",
    "    fp.write(\"\\n\".join(char for char in common_symbols))"
   ]
  },
  {
   "cell_type": "code",
   "execution_count": 48,
   "metadata": {
    "collapsed": false
   },
   "outputs": [
    {
     "data": {
      "image/png": "[encoded data removed]",
      "text/plain": [
       "<matplotlib.figure.Figure at 0x7f44f27d6e10>"
      ]
     },
     "metadata": {},
     "output_type": "display_data"
    }
   ],
   "source": [
    "# Let's also visualize the distribution.\n",
    "%matplotlib inline \n",
    "import matplotlib.pyplot as plt\n",
    "\n",
    "\n",
    "ind = xrange(len(common_symbols))\n",
    "counts = [symbol_counts[sym] for sym in common_symbols]\n",
    "plt.bar(ind, counts, 0.5)\n",
    "plt.show()"
   ]
  }
 ],
 "metadata": {
  "kernelspec": {
   "display_name": "Python 2",
   "language": "python",
   "name": "python2"
  },
  "language_info": {
   "codemirror_mode": {
    "name": "ipython",
    "version": 2
   },
   "file_extension": ".py",
   "mimetype": "text/x-python",
   "name": "python",
   "nbconvert_exporter": "python",
   "pygments_lexer": "ipython2",
   "version": "2.7.6"
  }
 },
 "nbformat": 4,
 "nbformat_minor": 0
}
