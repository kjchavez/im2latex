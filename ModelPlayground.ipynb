{
 "cells": [
  {
   "cell_type": "code",
   "execution_count": 20,
   "metadata": {
    "collapsed": false
   },
   "outputs": [],
   "source": [
    "%reload_ext autoreload\n",
    "%autoreload 2\n",
    "import tensorflow as tf\n",
    "from model.input import get_train_data"
   ]
  },
  {
   "cell_type": "code",
   "execution_count": 21,
   "metadata": {
    "collapsed": false
   },
   "outputs": [
    {
     "name": "stdout",
     "output_type": "stream",
     "text": [
      "<dtype: 'float32'>\n",
      "[array([[[-0.5, -0.5, -0.5, ..., -0.5, -0.5, -0.5],\n",
      "        [-0.5, -0.5, -0.5, ..., -0.5, -0.5, -0.5],\n",
      "        [-0.5, -0.5, -0.5, ..., -0.5, -0.5, -0.5],\n",
      "        ..., \n",
      "        [-0.5, -0.5, -0.5, ..., -0.5, -0.5, -0.5],\n",
      "        [-0.5, -0.5, -0.5, ..., -0.5, -0.5, -0.5],\n",
      "        [-0.5, -0.5, -0.5, ..., -0.5, -0.5, -0.5]],\n",
      "\n",
      "       [[-0.5, -0.5, -0.5, ..., -0.5, -0.5, -0.5],\n",
      "        [-0.5, -0.5, -0.5, ..., -0.5, -0.5, -0.5],\n",
      "        [-0.5, -0.5, -0.5, ..., -0.5, -0.5, -0.5],\n",
      "        ..., \n",
      "        [-0.5, -0.5, -0.5, ..., -0.5, -0.5, -0.5],\n",
      "        [-0.5, -0.5, -0.5, ..., -0.5, -0.5, -0.5],\n",
      "        [-0.5, -0.5, -0.5, ..., -0.5, -0.5, -0.5]]], dtype=float32)]\n"
     ]
    }
   ],
   "source": [
    "X, y = get_train_data(batch_size=2)\n",
    "\n",
    "with tf.Session() as sess:\n",
    "    coord = tf.train.Coordinator()\n",
    "    threads = tf.train.start_queue_runners(sess=sess, coord=coord)\n",
    "    X_val = sess.run([X['image']])\n",
    "    print X_val\n",
    "    coord.request_stop()\n",
    "    coord.join(threads)"
   ]
  },
  {
   "cell_type": "code",
   "execution_count": 23,
   "metadata": {
    "collapsed": false
   },
   "outputs": [
    {
     "data": {
      "image/png": "[encoded data removed]",
      "text/plain": [
       "<matplotlib.figure.Figure at 0x7fa675a83a50>"
      ]
     },
     "metadata": {},
     "output_type": "display_data"
    },
    {
     "data": {
      "image/png": "[encoded data removed]",
      "text/plain": [
       "<matplotlib.figure.Figure at 0x7fa6763f7e90>"
      ]
     },
     "metadata": {},
     "output_type": "display_data"
    }
   ],
   "source": [
    "%matplotlib inline\n",
    "import matplotlib.pyplot as plt\n",
    "import numpy as np\n",
    "\n",
    "plt.imshow(X_val[0][0] + 0.5, cmap='gray')\n",
    "plt.show()\n",
    "plt.imshow(X_val[0][1] + 0.5, cmap='gray')\n",
    "plt.show()"
   ]
  }
 ],
 "metadata": {
  "kernelspec": {
   "display_name": "Python 2",
   "language": "python",
   "name": "python2"
  },
  "language_info": {
   "codemirror_mode": {
    "name": "ipython",
    "version": 2
   },
   "file_extension": ".py",
   "mimetype": "text/x-python",
   "name": "python",
   "nbconvert_exporter": "python",
   "pygments_lexer": "ipython2",
   "version": "2.7.6"
  }
 },
 "nbformat": 4,
 "nbformat_minor": 0
}
